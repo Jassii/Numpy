{
  "nbformat": 4,
  "nbformat_minor": 0,
  "metadata": {
    "colab": {
      "name": "NumPy.ipynb",
      "provenance": [],
      "collapsed_sections": [],
      "authorship_tag": "ABX9TyOwKQJHrwME6m7YpmZ/wZ06",
      "include_colab_link": true
    },
    "kernelspec": {
      "name": "python3",
      "display_name": "Python 3"
    },
    "language_info": {
      "name": "python"
    }
  },
  "cells": [
    {
      "cell_type": "markdown",
      "metadata": {
        "id": "view-in-github",
        "colab_type": "text"
      },
      "source": [
        "<a href=\"https://colab.research.google.com/github/Jassii/Numpy/blob/main/numpy.ipynb\" target=\"_parent\"><img src=\"https://colab.research.google.com/assets/colab-badge.svg\" alt=\"Open In Colab\"/></a>"
      ]
    },
    {
      "cell_type": "markdown",
      "metadata": {
        "id": "b7X8-j-jmuRn"
      },
      "source": [
        "##Study about NumPy\n",
        "\n",
        "It is used to do typical numerical calculation on multidimensional arrays along with some other sophisticated functions. It provides ease working with linear algebra and carrying out complex calculations like Matrix inversion, Fourier transforms, etc..."
      ]
    },
    {
      "cell_type": "code",
      "metadata": {
        "id": "MSput7m8ES2t"
      },
      "source": [
        "import numpy as np"
      ],
      "execution_count": 10,
      "outputs": []
    },
    {
      "cell_type": "markdown",
      "metadata": {
        "id": "zwzdZNLVnxdt"
      },
      "source": [
        "Example 1"
      ]
    },
    {
      "cell_type": "code",
      "metadata": {
        "id": "R8lKdjncmN80"
      },
      "source": [
        "lst = [1,2,3,4,5]  "
      ],
      "execution_count": 11,
      "outputs": []
    },
    {
      "cell_type": "code",
      "metadata": {
        "id": "w1z3nn2Ll2x9"
      },
      "source": [
        "arr = np.array(lst)  #converting the list into array..\n"
      ],
      "execution_count": 14,
      "outputs": []
    },
    {
      "cell_type": "code",
      "metadata": {
        "colab": {
          "base_uri": "https://localhost:8080/"
        },
        "id": "git7i5n5mDOQ",
        "outputId": "db6d21dd-3921-41c7-d08e-84ec41759ced"
      },
      "source": [
        "print(arr+5)  #print the array after increasing each value by 5.."
      ],
      "execution_count": 15,
      "outputs": [
        {
          "output_type": "stream",
          "text": [
            "[ 6  7  8  9 10]\n"
          ],
          "name": "stdout"
        }
      ]
    },
    {
      "cell_type": "markdown",
      "metadata": {
        "id": "8QZUEWHQn0GX"
      },
      "source": [
        "Example 2"
      ]
    },
    {
      "cell_type": "code",
      "metadata": {
        "id": "ZguTVP0Mncf9"
      },
      "source": [
        "lst = [1, 2, 3, 'text', True, 3+2j] \n",
        "arr = np.array(lst)\n",
        "#now it's time to check the homogenity(numpy array works the similar data type..)"
      ],
      "execution_count": 16,
      "outputs": []
    },
    {
      "cell_type": "code",
      "metadata": {
        "colab": {
          "base_uri": "https://localhost:8080/"
        },
        "id": "dRXCvK3mn8s3",
        "outputId": "088e9db1-b6f0-4003-f2fb-91b69e92e017"
      },
      "source": [
        "print(type(arr[0]),type(arr[4]),type(arr[5]))   #it is returning the type of the specified element of (class) as (numpy.str)"
      ],
      "execution_count": 17,
      "outputs": [
        {
          "output_type": "stream",
          "text": [
            "<class 'numpy.str_'> <class 'numpy.str_'> <class 'numpy.str_'>\n"
          ],
          "name": "stdout"
        }
      ]
    },
    {
      "cell_type": "markdown",
      "metadata": {
        "id": "7OrrQD1Eohpe"
      },
      "source": [
        "Example 3"
      ]
    },
    {
      "cell_type": "code",
      "metadata": {
        "id": "A7cR1rQooDA9"
      },
      "source": [
        "lst = [56, 45, 12, 6]\n",
        "arr = np.array(lst)\n",
        "#we have to calculate the number of bytes occupied by this list "
      ],
      "execution_count": 21,
      "outputs": []
    },
    {
      "cell_type": "code",
      "metadata": {
        "colab": {
          "base_uri": "https://localhost:8080/"
        },
        "id": "Lf2RXTgconP2",
        "outputId": "44ad3871-b9c2-43f2-b30b-8c57e599810e"
      },
      "source": [
        "print(arr.nbytes)"
      ],
      "execution_count": 22,
      "outputs": [
        {
          "output_type": "stream",
          "text": [
            "32\n"
          ],
          "name": "stdout"
        }
      ]
    },
    {
      "cell_type": "markdown",
      "metadata": {
        "id": "AHN9OoMkpPFi"
      },
      "source": [
        "**Numpy Object Creation**"
      ]
    },
    {
      "cell_type": "code",
      "metadata": {
        "id": "_3OhvT-cozao"
      },
      "source": [
        "#create an array using numpy\n",
        "arr = np.array([1,2,3,4,5], dtype=int)  #dtype tells about the data type.."
      ],
      "execution_count": 23,
      "outputs": []
    },
    {
      "cell_type": "code",
      "metadata": {
        "colab": {
          "base_uri": "https://localhost:8080/"
        },
        "id": "8bjBjiFIptCf",
        "outputId": "1d674412-c898-435b-e40f-e02fcfd6b89f"
      },
      "source": [
        "arr"
      ],
      "execution_count": 24,
      "outputs": [
        {
          "output_type": "execute_result",
          "data": {
            "text/plain": [
              "array([1, 2, 3, 4, 5])"
            ]
          },
          "metadata": {
            "tags": []
          },
          "execution_count": 24
        }
      ]
    },
    {
      "cell_type": "code",
      "metadata": {
        "colab": {
          "base_uri": "https://localhost:8080/"
        },
        "id": "tnwWnCSKpuFn",
        "outputId": "a91fb91c-f58f-483f-a6f6-8af2b3c005c9"
      },
      "source": [
        "type(arr)"
      ],
      "execution_count": 25,
      "outputs": [
        {
          "output_type": "execute_result",
          "data": {
            "text/plain": [
              "numpy.ndarray"
            ]
          },
          "metadata": {
            "tags": []
          },
          "execution_count": 25
        }
      ]
    },
    {
      "cell_type": "code",
      "metadata": {
        "colab": {
          "base_uri": "https://localhost:8080/"
        },
        "id": "MODC4u_Upvlp",
        "outputId": "65450d63-ea80-4535-8cc9-78bc6f874ddb"
      },
      "source": [
        "np.result_type(arr)   #inorder to check the type of the elements present in the array.."
      ],
      "execution_count": 28,
      "outputs": [
        {
          "output_type": "execute_result",
          "data": {
            "text/plain": [
              "dtype('int64')"
            ]
          },
          "metadata": {
            "tags": []
          },
          "execution_count": 28
        }
      ]
    },
    {
      "cell_type": "markdown",
      "metadata": {
        "id": "1hteFkhKqCVy"
      },
      "source": [
        "Here, we have used np.array() function which takes 2 arguments, the input list, and the corresponding data type (dtype). To check the data type of a particular NumPy object we have used np.result_type() command."
      ]
    },
    {
      "cell_type": "markdown",
      "metadata": {
        "id": "zA0Ugd7RqY6r"
      },
      "source": [
        "**NumPy offers some frequently used functions to create a NumPy object as shown below:**"
      ]
    },
    {
      "cell_type": "code",
      "metadata": {
        "colab": {
          "base_uri": "https://localhost:8080/"
        },
        "id": "viw9MPhpp1cV",
        "outputId": "e73db3c8-048a-400b-a260-2641e8db1f14"
      },
      "source": [
        "arr = np.arange(0,10,1.33, dtype=np.float64)  #1.33 will be considered as the steps between the values..\n",
        "print(arr)  #printing the elements present in the array..\n",
        "# arange() gives uncertain number of values based on steps\n",
        "\n",
        "# Hence, we use linspace, which asks for total number of values \n",
        "arr = np.linspace(0,160,5, dtype=np.float64) #here 5 is considered as the number of elements in the array\n",
        "print(arr)"
      ],
      "execution_count": 36,
      "outputs": [
        {
          "output_type": "stream",
          "text": [
            "[0.   1.33 2.66 3.99 5.32 6.65 7.98 9.31]\n",
            "[  0.  40.  80. 120. 160.]\n"
          ],
          "name": "stdout"
        }
      ]
    },
    {
      "cell_type": "markdown",
      "metadata": {
        "id": "BS5yWQQIrgc8"
      },
      "source": [
        "**Matrix Creation**"
      ]
    },
    {
      "cell_type": "markdown",
      "metadata": {
        "id": "JdwHLYDirqpL"
      },
      "source": [
        "Method 1"
      ]
    },
    {
      "cell_type": "code",
      "metadata": {
        "colab": {
          "base_uri": "https://localhost:8080/"
        },
        "id": "FgN9UHI0qmag",
        "outputId": "0dc61ee8-f7b4-4361-b850-d788e4109591"
      },
      "source": [
        "#Converting the array into matrix using numpy function..\n",
        "lst = [1,2,3,4,5,6]\n",
        "arr = np.array(lst)   #converting the list into array..\n",
        "print(arr.reshape(2,3))  #now converting the array into matrix representation.."
      ],
      "execution_count": 45,
      "outputs": [
        {
          "output_type": "stream",
          "text": [
            "[[1 2 3]\n",
            " [4 5 6]]\n"
          ],
          "name": "stdout"
        }
      ]
    },
    {
      "cell_type": "markdown",
      "metadata": {
        "id": "haAB1yzWsi7i"
      },
      "source": [
        "Method 2 - Using matrix inbuilt function"
      ]
    },
    {
      "cell_type": "code",
      "metadata": {
        "colab": {
          "base_uri": "https://localhost:8080/"
        },
        "id": "N2rudru9r6Am",
        "outputId": "4f01616f-5a67-4697-e989-08fb8a268d3b"
      },
      "source": [
        "print(  np.matrix(  [       [1,2,3],[4,5,6],[7,8,9]   ]  )  ) #list is passed inside the list.."
      ],
      "execution_count": 51,
      "outputs": [
        {
          "output_type": "stream",
          "text": [
            "[[1 2 3]\n",
            " [4 5 6]\n",
            " [7 8 9]]\n"
          ],
          "name": "stdout"
        }
      ]
    },
    {
      "cell_type": "markdown",
      "metadata": {
        "id": "km-Xva2utUKf"
      },
      "source": [
        "Method 3 - Using misc function"
      ]
    },
    {
      "cell_type": "code",
      "metadata": {
        "colab": {
          "base_uri": "https://localhost:8080/"
        },
        "id": "X1xvawoks0U5",
        "outputId": "90927ba7-82b5-4ee6-debc-0f7cec47798d"
      },
      "source": [
        "print(np.eye(3))  #only diagnol function is 1"
      ],
      "execution_count": 52,
      "outputs": [
        {
          "output_type": "stream",
          "text": [
            "[[1. 0. 0.]\n",
            " [0. 1. 0.]\n",
            " [0. 0. 1.]]\n"
          ],
          "name": "stdout"
        }
      ]
    },
    {
      "cell_type": "code",
      "metadata": {
        "colab": {
          "base_uri": "https://localhost:8080/"
        },
        "id": "C4UJ5DK6taW4",
        "outputId": "b7203166-be10-47ba-9eec-a501d058f44b"
      },
      "source": [
        "print(np.zeros(   (4,3) ) )  #zero matrix.."
      ],
      "execution_count": 54,
      "outputs": [
        {
          "output_type": "stream",
          "text": [
            "[[0. 0. 0.]\n",
            " [0. 0. 0.]\n",
            " [0. 0. 0.]\n",
            " [0. 0. 0.]]\n"
          ],
          "name": "stdout"
        }
      ]
    },
    {
      "cell_type": "code",
      "metadata": {
        "colab": {
          "base_uri": "https://localhost:8080/"
        },
        "id": "nsUhLAVtth_Y",
        "outputId": "453f2933-8661-4868-980d-79ae0f78c7c7"
      },
      "source": [
        "print(np.ones((2,2)))  #identity function.."
      ],
      "execution_count": 56,
      "outputs": [
        {
          "output_type": "stream",
          "text": [
            "[[1. 1.]\n",
            " [1. 1.]]\n"
          ],
          "name": "stdout"
        }
      ]
    },
    {
      "cell_type": "markdown",
      "metadata": {
        "id": "biKy7fDxt9SI"
      },
      "source": [
        "Question"
      ]
    },
    {
      "cell_type": "code",
      "metadata": {
        "colab": {
          "base_uri": "https://localhost:8080/"
        },
        "id": "CpgSUB5LttgP",
        "outputId": "7c3a0f73-055f-4006-8497-d44b83d0b038"
      },
      "source": [
        "arr1 = np.array([25, 56, 12, 85, 34, 75], dtype=np.int64)\n",
        "arr2 = np.array([42, 3, 86, 32, 856, 46], dtype=np.int64)\n",
        "print(arr1)\n",
        "print(arr2)"
      ],
      "execution_count": 64,
      "outputs": [
        {
          "output_type": "stream",
          "text": [
            "[25 56 12 85 34 75]\n",
            "[ 42   3  86  32 856  46]\n"
          ],
          "name": "stdout"
        }
      ]
    },
    {
      "cell_type": "markdown",
      "metadata": {
        "id": "PWNJ6lv8wUW2"
      },
      "source": [
        "**The numpy.random.rand() function creates an array of specified shape and fills it with random values.**"
      ]
    },
    {
      "cell_type": "code",
      "metadata": {
        "colab": {
          "base_uri": "https://localhost:8080/"
        },
        "id": "Gb448RbNuEoY",
        "outputId": "21d6f58f-7325-4612-80d5-c54aa4d30bfc"
      },
      "source": [
        "Narr = np.random.rand(6)  #the array will store random values of the size mentioned..\n",
        "Narr"
      ],
      "execution_count": 77,
      "outputs": [
        {
          "output_type": "execute_result",
          "data": {
            "text/plain": [
              "array([0.20198562, 0.65990163, 0.74243154, 0.82597156, 0.94213045,\n",
              "       0.73048859])"
            ]
          },
          "metadata": {
            "tags": []
          },
          "execution_count": 77
        }
      ]
    },
    {
      "cell_type": "markdown",
      "metadata": {
        "id": "St9LiSLuxD6k"
      },
      "source": [
        "**In order to change the dtype of the given array object, we will use numpy.astype() function.**"
      ]
    },
    {
      "cell_type": "markdown",
      "metadata": {
        "id": "sOMISUCyxVey"
      },
      "source": [
        "Permanently change the dtype of arr1 to complex."
      ]
    },
    {
      "cell_type": "code",
      "metadata": {
        "colab": {
          "base_uri": "https://localhost:8080/"
        },
        "id": "FSWWl4uLxWrI",
        "outputId": "be0c3b52-1595-40fe-f884-e1050a1928f3"
      },
      "source": [
        "arr1 = arr1.astype(np.complex64)\n",
        "print(arr1)"
      ],
      "execution_count": 82,
      "outputs": [
        {
          "output_type": "stream",
          "text": [
            "[25.+0.j 56.+0.j 12.+0.j 85.+0.j 34.+0.j 75.+0.j]\n"
          ],
          "name": "stdout"
        }
      ]
    },
    {
      "cell_type": "code",
      "metadata": {
        "id": "DIX9-s16uuRy"
      },
      "source": [
        "arr1_mat = arr1.reshape(2,3)"
      ],
      "execution_count": 70,
      "outputs": []
    },
    {
      "cell_type": "code",
      "metadata": {
        "id": "ArawDENtv2Sy"
      },
      "source": [
        "arr2_mat = arr2.reshape(2,3)"
      ],
      "execution_count": 71,
      "outputs": []
    },
    {
      "cell_type": "code",
      "metadata": {
        "colab": {
          "base_uri": "https://localhost:8080/"
        },
        "id": "mttloTC9v5o6",
        "outputId": "b43faa96-ed7f-4fa4-d4dc-c4dc5f327c33"
      },
      "source": [
        "print(arr1_mat,\"\\n\",arr2_mat)"
      ],
      "execution_count": 73,
      "outputs": [
        {
          "output_type": "stream",
          "text": [
            "[[25.+0.j 56.+0.j 12.+0.j]\n",
            " [85.+0.j 34.+0.j 75.+0.j]] \n",
            " [[ 42   3  86]\n",
            " [ 32 856  46]]\n"
          ],
          "name": "stdout"
        }
      ]
    },
    {
      "cell_type": "code",
      "metadata": {
        "id": "KV2Uinpcv8hS"
      },
      "source": [
        ""
      ],
      "execution_count": null,
      "outputs": []
    }
  ]
}