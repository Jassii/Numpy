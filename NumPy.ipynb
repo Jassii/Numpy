{
  "nbformat": 4,
  "nbformat_minor": 0,
  "metadata": {
    "colab": {
      "name": "NumPy.ipynb",
      "provenance": [],
      "collapsed_sections": [],
      "authorship_tag": "ABX9TyPk2Wg1cjfylzrKEwRQJtnl",
      "include_colab_link": true
    },
    "kernelspec": {
      "name": "python3",
      "display_name": "Python 3"
    },
    "language_info": {
      "name": "python"
    }
  },
  "cells": [
    {
      "cell_type": "markdown",
      "metadata": {
        "id": "view-in-github",
        "colab_type": "text"
      },
      "source": [
        "<a href=\"https://colab.research.google.com/github/Jassii/Numpy/blob/main/NumPy.ipynb\" target=\"_parent\"><img src=\"https://colab.research.google.com/assets/colab-badge.svg\" alt=\"Open In Colab\"/></a>"
      ]
    },
    {
      "cell_type": "markdown",
      "metadata": {
        "id": "b7X8-j-jmuRn"
      },
      "source": [
        "##Study about NumPy\n",
        "\n",
        "It is used to do typical numerical calculation on multidimensional arrays along with some other sophisticated functions. It provides ease working with linear algebra and carrying out complex calculations like Matrix inversion, Fourier transforms, etc..."
      ]
    },
    {
      "cell_type": "code",
      "metadata": {
        "id": "MSput7m8ES2t"
      },
      "source": [
        "import numpy as np"
      ],
      "execution_count": 2,
      "outputs": []
    },
    {
      "cell_type": "markdown",
      "metadata": {
        "id": "zwzdZNLVnxdt"
      },
      "source": [
        "Example 1"
      ]
    },
    {
      "cell_type": "code",
      "metadata": {
        "id": "R8lKdjncmN80"
      },
      "source": [
        "lst = [1,2,3,4,5]  "
      ],
      "execution_count": 3,
      "outputs": []
    },
    {
      "cell_type": "code",
      "metadata": {
        "id": "w1z3nn2Ll2x9"
      },
      "source": [
        "arr = np.array(lst)  #converting the list into array..\n"
      ],
      "execution_count": 4,
      "outputs": []
    },
    {
      "cell_type": "code",
      "metadata": {
        "colab": {
          "base_uri": "https://localhost:8080/"
        },
        "id": "git7i5n5mDOQ",
        "outputId": "d450be35-afe0-4fd0-9a1b-cd0f6ba9733b"
      },
      "source": [
        "print(arr+5)  #print the array after increasing each value by 5.."
      ],
      "execution_count": 5,
      "outputs": [
        {
          "output_type": "stream",
          "text": [
            "[ 6  7  8  9 10]\n"
          ],
          "name": "stdout"
        }
      ]
    },
    {
      "cell_type": "markdown",
      "metadata": {
        "id": "8QZUEWHQn0GX"
      },
      "source": [
        "Example 2"
      ]
    },
    {
      "cell_type": "code",
      "metadata": {
        "id": "ZguTVP0Mncf9"
      },
      "source": [
        "lst = [1, 2, 3, 'text', True, 3+2j] \n",
        "arr = np.array(lst)\n",
        "#now it's time to check the homogenity(numpy array works the similar data type..)"
      ],
      "execution_count": 6,
      "outputs": []
    },
    {
      "cell_type": "code",
      "metadata": {
        "colab": {
          "base_uri": "https://localhost:8080/",
          "height": 35
        },
        "id": "gY23Xj8aDPxN",
        "outputId": "94785454-4e9d-462f-e57e-98c7d72d113a"
      },
      "source": [
        "arr[0]  #it is returning the value in the form of string...(using np...it will store the value in the form of string).."
      ],
      "execution_count": 7,
      "outputs": [
        {
          "output_type": "execute_result",
          "data": {
            "application/vnd.google.colaboratory.intrinsic+json": {
              "type": "string"
            },
            "text/plain": [
              "'1'"
            ]
          },
          "metadata": {
            "tags": []
          },
          "execution_count": 7
        }
      ]
    },
    {
      "cell_type": "code",
      "metadata": {
        "colab": {
          "base_uri": "https://localhost:8080/"
        },
        "id": "dRXCvK3mn8s3",
        "outputId": "d4019022-731c-49e6-bd2f-2036a38ffd67"
      },
      "source": [
        "print(type(arr[0]),type(arr[4]),type(arr[5]))   #it is returning the type of the specified element of (class) as (numpy.str)"
      ],
      "execution_count": 8,
      "outputs": [
        {
          "output_type": "stream",
          "text": [
            "<class 'numpy.str_'> <class 'numpy.str_'> <class 'numpy.str_'>\n"
          ],
          "name": "stdout"
        }
      ]
    },
    {
      "cell_type": "markdown",
      "metadata": {
        "id": "7OrrQD1Eohpe"
      },
      "source": [
        "Example 3"
      ]
    },
    {
      "cell_type": "code",
      "metadata": {
        "id": "A7cR1rQooDA9"
      },
      "source": [
        "lst = [56, 45, 12, 6]\n",
        "arr = np.array(lst)\n",
        "#we have to calculate the number of bytes occupied by this list "
      ],
      "execution_count": 9,
      "outputs": []
    },
    {
      "cell_type": "code",
      "metadata": {
        "colab": {
          "base_uri": "https://localhost:8080/"
        },
        "id": "Lf2RXTgconP2",
        "outputId": "44ad3871-b9c2-43f2-b30b-8c57e599810e"
      },
      "source": [
        "print(arr.nbytes) #use of nbytes.."
      ],
      "execution_count": null,
      "outputs": [
        {
          "output_type": "stream",
          "text": [
            "32\n"
          ],
          "name": "stdout"
        }
      ]
    },
    {
      "cell_type": "markdown",
      "metadata": {
        "id": "AHN9OoMkpPFi"
      },
      "source": [
        "**Numpy Object Creation**"
      ]
    },
    {
      "cell_type": "code",
      "metadata": {
        "id": "_3OhvT-cozao"
      },
      "source": [
        "#create an array using numpy\n",
        "arr = np.array([1,2,3,4,5], dtype=int)  #dtype tells about the data type.."
      ],
      "execution_count": 10,
      "outputs": []
    },
    {
      "cell_type": "code",
      "metadata": {
        "colab": {
          "base_uri": "https://localhost:8080/"
        },
        "id": "8bjBjiFIptCf",
        "outputId": "266a9dca-ad4e-4e9c-e68b-8bbbd1b7ebe8"
      },
      "source": [
        "arr"
      ],
      "execution_count": 11,
      "outputs": [
        {
          "output_type": "execute_result",
          "data": {
            "text/plain": [
              "array([1, 2, 3, 4, 5])"
            ]
          },
          "metadata": {
            "tags": []
          },
          "execution_count": 11
        }
      ]
    },
    {
      "cell_type": "code",
      "metadata": {
        "colab": {
          "base_uri": "https://localhost:8080/"
        },
        "id": "tnwWnCSKpuFn",
        "outputId": "48a2e5c5-09e2-4b49-becf-13038f6fa237"
      },
      "source": [
        "type(arr)"
      ],
      "execution_count": 12,
      "outputs": [
        {
          "output_type": "execute_result",
          "data": {
            "text/plain": [
              "numpy.ndarray"
            ]
          },
          "metadata": {
            "tags": []
          },
          "execution_count": 12
        }
      ]
    },
    {
      "cell_type": "code",
      "metadata": {
        "colab": {
          "base_uri": "https://localhost:8080/"
        },
        "id": "MODC4u_Upvlp",
        "outputId": "62c5195f-0b9d-4e9c-9990-d528f32e9a62"
      },
      "source": [
        "np.result_type(arr)   #inorder to check the type of the elements present in the array.."
      ],
      "execution_count": 13,
      "outputs": [
        {
          "output_type": "execute_result",
          "data": {
            "text/plain": [
              "dtype('int64')"
            ]
          },
          "metadata": {
            "tags": []
          },
          "execution_count": 13
        }
      ]
    },
    {
      "cell_type": "markdown",
      "metadata": {
        "id": "1hteFkhKqCVy"
      },
      "source": [
        "Here, we have used np.array() function which takes 2 arguments, the input list, and the corresponding data type (dtype). To check the data type of a particular NumPy object we have used np.result_type() command."
      ]
    },
    {
      "cell_type": "markdown",
      "metadata": {
        "id": "zA0Ugd7RqY6r"
      },
      "source": [
        "**NumPy offers some frequently used functions to create a NumPy object as shown below:**"
      ]
    },
    {
      "cell_type": "code",
      "metadata": {
        "colab": {
          "base_uri": "https://localhost:8080/"
        },
        "id": "viw9MPhpp1cV",
        "outputId": "e73db3c8-048a-400b-a260-2641e8db1f14"
      },
      "source": [
        "arr = np.arange(0,10,1.33, dtype=np.float64)  #1.33 will be considered as the steps between the values..\n",
        "print(arr)  #printing the elements present in the array..\n",
        "# arange() gives uncertain number of values based on steps\n",
        "\n",
        "# Hence, we use linspace, which asks for total number of values \n",
        "arr = np.linspace(0,160,5, dtype=np.float64) #here 5 is considered as the number of elements in the array\n",
        "print(arr)"
      ],
      "execution_count": null,
      "outputs": [
        {
          "output_type": "stream",
          "text": [
            "[0.   1.33 2.66 3.99 5.32 6.65 7.98 9.31]\n",
            "[  0.  40.  80. 120. 160.]\n"
          ],
          "name": "stdout"
        }
      ]
    },
    {
      "cell_type": "markdown",
      "metadata": {
        "id": "BS5yWQQIrgc8"
      },
      "source": [
        "**Matrix Creation**"
      ]
    },
    {
      "cell_type": "markdown",
      "metadata": {
        "id": "JdwHLYDirqpL"
      },
      "source": [
        "Method 1"
      ]
    },
    {
      "cell_type": "code",
      "metadata": {
        "colab": {
          "base_uri": "https://localhost:8080/"
        },
        "id": "FgN9UHI0qmag",
        "outputId": "0dc61ee8-f7b4-4361-b850-d788e4109591"
      },
      "source": [
        "#Converting the array into matrix using numpy function..\n",
        "lst = [1,2,3,4,5,6]\n",
        "arr = np.array(lst)   #converting the list into array..\n",
        "print(arr.reshape(2,3))  #now converting the array into matrix representation.."
      ],
      "execution_count": null,
      "outputs": [
        {
          "output_type": "stream",
          "text": [
            "[[1 2 3]\n",
            " [4 5 6]]\n"
          ],
          "name": "stdout"
        }
      ]
    },
    {
      "cell_type": "markdown",
      "metadata": {
        "id": "haAB1yzWsi7i"
      },
      "source": [
        "Method 2 - Using matrix inbuilt function"
      ]
    },
    {
      "cell_type": "code",
      "metadata": {
        "colab": {
          "base_uri": "https://localhost:8080/"
        },
        "id": "N2rudru9r6Am",
        "outputId": "4f01616f-5a67-4697-e989-08fb8a268d3b"
      },
      "source": [
        "print(  np.matrix(  [       [1,2,3],[4,5,6],[7,8,9]   ]  )  ) #list is passed inside the list.."
      ],
      "execution_count": null,
      "outputs": [
        {
          "output_type": "stream",
          "text": [
            "[[1 2 3]\n",
            " [4 5 6]\n",
            " [7 8 9]]\n"
          ],
          "name": "stdout"
        }
      ]
    },
    {
      "cell_type": "markdown",
      "metadata": {
        "id": "km-Xva2utUKf"
      },
      "source": [
        "Method 3 - Using misc function"
      ]
    },
    {
      "cell_type": "code",
      "metadata": {
        "colab": {
          "base_uri": "https://localhost:8080/"
        },
        "id": "X1xvawoks0U5",
        "outputId": "90927ba7-82b5-4ee6-debc-0f7cec47798d"
      },
      "source": [
        "print(np.eye(3))  #only diagnol function is 1"
      ],
      "execution_count": null,
      "outputs": [
        {
          "output_type": "stream",
          "text": [
            "[[1. 0. 0.]\n",
            " [0. 1. 0.]\n",
            " [0. 0. 1.]]\n"
          ],
          "name": "stdout"
        }
      ]
    },
    {
      "cell_type": "code",
      "metadata": {
        "colab": {
          "base_uri": "https://localhost:8080/"
        },
        "id": "C4UJ5DK6taW4",
        "outputId": "b7203166-be10-47ba-9eec-a501d058f44b"
      },
      "source": [
        "print(np.zeros(   (4,3) ) )  #zero matrix.."
      ],
      "execution_count": null,
      "outputs": [
        {
          "output_type": "stream",
          "text": [
            "[[0. 0. 0.]\n",
            " [0. 0. 0.]\n",
            " [0. 0. 0.]\n",
            " [0. 0. 0.]]\n"
          ],
          "name": "stdout"
        }
      ]
    },
    {
      "cell_type": "code",
      "metadata": {
        "colab": {
          "base_uri": "https://localhost:8080/"
        },
        "id": "nsUhLAVtth_Y",
        "outputId": "453f2933-8661-4868-980d-79ae0f78c7c7"
      },
      "source": [
        "print(np.ones((2,2)))  #identity function.."
      ],
      "execution_count": null,
      "outputs": [
        {
          "output_type": "stream",
          "text": [
            "[[1. 1.]\n",
            " [1. 1.]]\n"
          ],
          "name": "stdout"
        }
      ]
    },
    {
      "cell_type": "markdown",
      "metadata": {
        "id": "biKy7fDxt9SI"
      },
      "source": [
        "Question"
      ]
    },
    {
      "cell_type": "code",
      "metadata": {
        "colab": {
          "base_uri": "https://localhost:8080/"
        },
        "id": "CpgSUB5LttgP",
        "outputId": "7c3a0f73-055f-4006-8497-d44b83d0b038"
      },
      "source": [
        "arr1 = np.array([25, 56, 12, 85, 34, 75], dtype=np.int64)\n",
        "arr2 = np.array([42, 3, 86, 32, 856, 46], dtype=np.int64)\n",
        "print(arr1)\n",
        "print(arr2)"
      ],
      "execution_count": null,
      "outputs": [
        {
          "output_type": "stream",
          "text": [
            "[25 56 12 85 34 75]\n",
            "[ 42   3  86  32 856  46]\n"
          ],
          "name": "stdout"
        }
      ]
    },
    {
      "cell_type": "markdown",
      "metadata": {
        "id": "PWNJ6lv8wUW2"
      },
      "source": [
        "**The numpy.random.rand() function creates an array of specified shape and fills it with random values.**"
      ]
    },
    {
      "cell_type": "code",
      "metadata": {
        "colab": {
          "base_uri": "https://localhost:8080/"
        },
        "id": "Gb448RbNuEoY",
        "outputId": "21d6f58f-7325-4612-80d5-c54aa4d30bfc"
      },
      "source": [
        "Narr = np.random.rand(6)  #the array will store random values of the size mentioned..\n",
        "Narr"
      ],
      "execution_count": null,
      "outputs": [
        {
          "output_type": "execute_result",
          "data": {
            "text/plain": [
              "array([0.20198562, 0.65990163, 0.74243154, 0.82597156, 0.94213045,\n",
              "       0.73048859])"
            ]
          },
          "metadata": {
            "tags": []
          },
          "execution_count": 77
        }
      ]
    },
    {
      "cell_type": "markdown",
      "metadata": {
        "id": "St9LiSLuxD6k"
      },
      "source": [
        "**In order to change the dtype of the given array object, we will use numpy.astype() function.**"
      ]
    },
    {
      "cell_type": "markdown",
      "metadata": {
        "id": "sOMISUCyxVey"
      },
      "source": [
        "Permanently change the dtype of arr1 to complex."
      ]
    },
    {
      "cell_type": "code",
      "metadata": {
        "colab": {
          "base_uri": "https://localhost:8080/"
        },
        "id": "FSWWl4uLxWrI",
        "outputId": "be0c3b52-1595-40fe-f884-e1050a1928f3"
      },
      "source": [
        "arr1 = arr1.astype(np.complex64)  #astype() function is used in order to change the data type permanently..\n",
        "print(arr1)"
      ],
      "execution_count": null,
      "outputs": [
        {
          "output_type": "stream",
          "text": [
            "[25.+0.j 56.+0.j 12.+0.j 85.+0.j 34.+0.j 75.+0.j]\n"
          ],
          "name": "stdout"
        }
      ]
    },
    {
      "cell_type": "code",
      "metadata": {
        "id": "DIX9-s16uuRy"
      },
      "source": [
        "arr1_mat = arr1.reshape(2,3)"
      ],
      "execution_count": null,
      "outputs": []
    },
    {
      "cell_type": "code",
      "metadata": {
        "id": "ArawDENtv2Sy"
      },
      "source": [
        "arr2_mat = arr2.reshape(2,3)"
      ],
      "execution_count": null,
      "outputs": []
    },
    {
      "cell_type": "code",
      "metadata": {
        "colab": {
          "base_uri": "https://localhost:8080/"
        },
        "id": "mttloTC9v5o6",
        "outputId": "b43faa96-ed7f-4fa4-d4dc-c4dc5f327c33"
      },
      "source": [
        "print(arr1_mat,\"\\n\",arr2_mat)"
      ],
      "execution_count": null,
      "outputs": [
        {
          "output_type": "stream",
          "text": [
            "[[25.+0.j 56.+0.j 12.+0.j]\n",
            " [85.+0.j 34.+0.j 75.+0.j]] \n",
            " [[ 42   3  86]\n",
            " [ 32 856  46]]\n"
          ],
          "name": "stdout"
        }
      ]
    },
    {
      "cell_type": "code",
      "metadata": {
        "id": "KV2Uinpcv8hS"
      },
      "source": [
        "arr = np.ones(10) #1D array..."
      ],
      "execution_count": 15,
      "outputs": []
    },
    {
      "cell_type": "code",
      "metadata": {
        "colab": {
          "base_uri": "https://localhost:8080/"
        },
        "id": "2zViWygzEY7h",
        "outputId": "d3051e16-4f6c-4724-e976-6f663792d658"
      },
      "source": [
        "type(arr)  #it returns the type of array.."
      ],
      "execution_count": 16,
      "outputs": [
        {
          "output_type": "execute_result",
          "data": {
            "text/plain": [
              "numpy.ndarray"
            ]
          },
          "metadata": {
            "tags": []
          },
          "execution_count": 16
        }
      ]
    },
    {
      "cell_type": "code",
      "metadata": {
        "colab": {
          "base_uri": "https://localhost:8080/"
        },
        "id": "2b0EvH5rEhD2",
        "outputId": "1820c48d-531d-40af-ba74-77fd0815cbd3"
      },
      "source": [
        "np.result_type(arr)  #returns the type of the elements present"
      ],
      "execution_count": 17,
      "outputs": [
        {
          "output_type": "execute_result",
          "data": {
            "text/plain": [
              "dtype('float64')"
            ]
          },
          "metadata": {
            "tags": []
          },
          "execution_count": 17
        }
      ]
    },
    {
      "cell_type": "code",
      "metadata": {
        "id": "8t325dOqEn1w"
      },
      "source": [
        "arr2 = np.arange(10, dtype = np.float64)"
      ],
      "execution_count": 18,
      "outputs": []
    },
    {
      "cell_type": "code",
      "metadata": {
        "colab": {
          "base_uri": "https://localhost:8080/"
        },
        "id": "tLZNjSAvExeb",
        "outputId": "504dd275-ef9b-419a-89bd-167c58afed31"
      },
      "source": [
        "np.result_type(arr2)"
      ],
      "execution_count": 19,
      "outputs": [
        {
          "output_type": "execute_result",
          "data": {
            "text/plain": [
              "dtype('float64')"
            ]
          },
          "metadata": {
            "tags": []
          },
          "execution_count": 19
        }
      ]
    },
    {
      "cell_type": "markdown",
      "metadata": {
        "id": "aC5ocf9_FQOW"
      },
      "source": [
        "**Vectorized operations**"
      ]
    },
    {
      "cell_type": "markdown",
      "metadata": {
        "id": "mOt2x0x8Fohn"
      },
      "source": [
        "Example 1"
      ]
    },
    {
      "cell_type": "code",
      "metadata": {
        "colab": {
          "base_uri": "https://localhost:8080/"
        },
        "id": "vHoXenTfEz5V",
        "outputId": "141f9ccb-423a-44b1-a57a-56a4b732b645"
      },
      "source": [
        "S_X = np.array([[2, 5, 6, 5],  \n",
        "               [4, 8, 6, 5]])  #defining 2D array..\n",
        "print(S_X)\n",
        "\n",
        "S_Y = np.array([[6, 7, 5, 9],\n",
        "               [7, 5, 6, 4]])  #defining 2D array..\n",
        "print(S_Y)"
      ],
      "execution_count": 20,
      "outputs": [
        {
          "output_type": "stream",
          "text": [
            "[[2 5 6 5]\n",
            " [4 8 6 5]]\n",
            "[[6 7 5 9]\n",
            " [7 5 6 4]]\n"
          ],
          "name": "stdout"
        }
      ]
    },
    {
      "cell_type": "markdown",
      "metadata": {
        "id": "yGIiNUIHFxi4"
      },
      "source": [
        "**1. Quarterly difference between each state's literacy rate per year**"
      ]
    },
    {
      "cell_type": "code",
      "metadata": {
        "colab": {
          "base_uri": "https://localhost:8080/"
        },
        "id": "j4flC-ZCFtzz",
        "outputId": "7c4bae8a-007f-4946-9529-0fdb624302f0"
      },
      "source": [
        "print(S_Y - S_X)  #we will subtract both the arrays."
      ],
      "execution_count": 21,
      "outputs": [
        {
          "output_type": "stream",
          "text": [
            "[[ 4  2 -1  4]\n",
            " [ 3 -3  0 -1]]\n"
          ],
          "name": "stdout"
        }
      ]
    },
    {
      "cell_type": "markdown",
      "metadata": {
        "id": "OzseaRgAF_Tp"
      },
      "source": [
        "**2. Quarters having a literacy rate less than 2.**"
      ]
    },
    {
      "cell_type": "code",
      "metadata": {
        "colab": {
          "base_uri": "https://localhost:8080/"
        },
        "id": "itI2ALpWF3T1",
        "outputId": "3c3e41bc-01f7-4529-ed1f-d44790f8f82f"
      },
      "source": [
        "print((S_Y)<2)  #For Case Y"
      ],
      "execution_count": 23,
      "outputs": [
        {
          "output_type": "stream",
          "text": [
            "[[False False False False]\n",
            " [False False False False]]\n"
          ],
          "name": "stdout"
        }
      ]
    },
    {
      "cell_type": "code",
      "metadata": {
        "colab": {
          "base_uri": "https://localhost:8080/"
        },
        "id": "EnTDF-3bGL5p",
        "outputId": "e043b91d-0225-4308-9032-f30e332b3e35"
      },
      "source": [
        "print((S_X)<2) #For Case X"
      ],
      "execution_count": 24,
      "outputs": [
        {
          "output_type": "stream",
          "text": [
            "[[False False False False]\n",
            " [False False False False]]\n"
          ],
          "name": "stdout"
        }
      ]
    },
    {
      "cell_type": "markdown",
      "metadata": {
        "id": "nSpKO66MUt9x"
      },
      "source": [
        "Some Examples\n"
      ]
    },
    {
      "cell_type": "code",
      "metadata": {
        "colab": {
          "base_uri": "https://localhost:8080/"
        },
        "id": "6GwattcIGUwk",
        "outputId": "218523ab-5d9c-4250-e3b6-9889af477c9e"
      },
      "source": [
        "#Given a matrix mat, sort it by the second column.\n",
        "mat = np.array([[1,21,3],[5,4,2],[56,12,4]])\n",
        "out = np.argsort(mat)  #it returns the array of indices that would sort the array...\n",
        "print(mat[out])                                                                          #not so much clear."
      ],
      "execution_count": 51,
      "outputs": [
        {
          "output_type": "stream",
          "text": [
            "[[[ 1 21  3]\n",
            "  [56 12  4]\n",
            "  [ 5  4  2]]\n",
            "\n",
            " [[56 12  4]\n",
            "  [ 5  4  2]\n",
            "  [ 1 21  3]]\n",
            "\n",
            " [[56 12  4]\n",
            "  [ 5  4  2]\n",
            "  [ 1 21  3]]]\n"
          ],
          "name": "stdout"
        }
      ]
    },
    {
      "cell_type": "code",
      "metadata": {
        "colab": {
          "base_uri": "https://localhost:8080/"
        },
        "id": "MypukbuMHu1w",
        "outputId": "33cd1ba0-0bd1-4124-b115-13ece83432c6"
      },
      "source": [
        "#Given an array arr, find the top 4 maximum values.\n",
        "arr = np.array([90, 14, 24, 13, 13, 590, 0, 45, 16, 50])\n",
        "print(arr)\n",
        "arr = arr[arr.argsort()]  #using argsort() inorder to sort the array..\n",
        "print(arr)\n",
        "print(arr[-4:])\n",
        "\n",
        "   #top 4 maximum vales.."
      ],
      "execution_count": 63,
      "outputs": [
        {
          "output_type": "stream",
          "text": [
            "[ 90  14  24  13  13 590   0  45  16  50]\n",
            "[  0  13  13  14  16  24  45  50  90 590]\n",
            "[ 45  50  90 590]\n"
          ],
          "name": "stdout"
        }
      ]
    },
    {
      "cell_type": "markdown",
      "metadata": {
        "id": "bw_UgGSpLbi5"
      },
      "source": [
        "**6. Find the nearest number from the given number in an array.**"
      ]
    },
    {
      "cell_type": "code",
      "metadata": {
        "colab": {
          "base_uri": "https://localhost:8080/"
        },
        "id": "6MSOHa91H6hd",
        "outputId": "00dfd017-b71d-4d3a-d0da-1a420c5cfc41"
      },
      "source": [
        "arr = np.array([10,55,22,3,6,44,9,54])\n",
        "print(np.argmin(arr))                 #not clear..."
      ],
      "execution_count": 64,
      "outputs": [
        {
          "output_type": "stream",
          "text": [
            "3\n"
          ],
          "name": "stdout"
        }
      ]
    },
    {
      "cell_type": "markdown",
      "metadata": {
        "id": "6AhSUI_aY1wv"
      },
      "source": [
        "**Additional operations**"
      ]
    },
    {
      "cell_type": "markdown",
      "metadata": {
        "id": "HcklMGh3cZN0"
      },
      "source": [
        "**3. Quarters having a literacy rate with cumulative sum of more than or equal to 8 per year.**"
      ]
    },
    {
      "cell_type": "code",
      "metadata": {
        "colab": {
          "base_uri": "https://localhost:8080/"
        },
        "id": "jBrBd3UWZb_w",
        "outputId": "b2df7cfe-eac6-41f7-be80-61681ba57b3b"
      },
      "source": [
        "S_X"
      ],
      "execution_count": 70,
      "outputs": [
        {
          "output_type": "execute_result",
          "data": {
            "text/plain": [
              "array([[2, 5, 6, 5],\n",
              "       [4, 8, 6, 5]])"
            ]
          },
          "metadata": {
            "tags": []
          },
          "execution_count": 70
        }
      ]
    },
    {
      "cell_type": "code",
      "metadata": {
        "id": "uupp8YBEMBAT"
      },
      "source": [
        "X_cumsum = np.cumsum(S_X, axis = 1)  #numpy.cumsum() function is used when we want to compute the \n",
        "#cumulative sum of array elements over a given axis.                         #axis =1 means column.."
      ],
      "execution_count": 68,
      "outputs": []
    },
    {
      "cell_type": "code",
      "metadata": {
        "colab": {
          "base_uri": "https://localhost:8080/"
        },
        "id": "3e0a1GMLY0GI",
        "outputId": "d4478caf-9f19-45ce-98e2-52468a657f67"
      },
      "source": [
        "print(X_cumsum)"
      ],
      "execution_count": 71,
      "outputs": [
        {
          "output_type": "stream",
          "text": [
            "[[ 2  7 13 18]\n",
            " [ 4 12 18 23]]\n"
          ],
          "name": "stdout"
        }
      ]
    },
    {
      "cell_type": "code",
      "metadata": {
        "colab": {
          "base_uri": "https://localhost:8080/"
        },
        "id": "UEuwDy1_ZQxs",
        "outputId": "11c50e54-85bc-4576-dcbd-a264253af656"
      },
      "source": [
        "print(X_cumsum>8)"
      ],
      "execution_count": 72,
      "outputs": [
        {
          "output_type": "stream",
          "text": [
            "[[False False  True  True]\n",
            " [False  True  True  True]]\n"
          ],
          "name": "stdout"
        }
      ]
    },
    {
      "cell_type": "code",
      "metadata": {
        "colab": {
          "base_uri": "https://localhost:8080/"
        },
        "id": "vx458-zjbeaO",
        "outputId": "aa08ca62-bb4c-48ad-9e16-c59eeba773e5"
      },
      "source": [
        "Y_cumsum = np.cumsum(S_Y,axis=1)\n",
        "print(Y_cumsum)"
      ],
      "execution_count": 73,
      "outputs": [
        {
          "output_type": "stream",
          "text": [
            "[[ 6 13 18 27]\n",
            " [ 7 12 18 22]]\n"
          ],
          "name": "stdout"
        }
      ]
    },
    {
      "cell_type": "code",
      "metadata": {
        "colab": {
          "base_uri": "https://localhost:8080/"
        },
        "id": "DPp98a2rcHjq",
        "outputId": "d16df024-0e3b-4498-8938-66da080b8a0e"
      },
      "source": [
        "print(Y_cumsum>8)"
      ],
      "execution_count": 74,
      "outputs": [
        {
          "output_type": "stream",
          "text": [
            "[[False  True  True  True]\n",
            " [False  True  True  True]]\n"
          ],
          "name": "stdout"
        }
      ]
    },
    {
      "cell_type": "markdown",
      "metadata": {
        "id": "IKHmv3KzcdRs"
      },
      "source": [
        "**4. Mean of each year's literacy rate of State X and mean of each quarterly's literacy rate of State Y.**"
      ]
    },
    {
      "cell_type": "markdown",
      "metadata": {
        "id": "Ten8s6VDc-MB"
      },
      "source": [
        "numpy.mean(arr, axis = None) : Compute the arithmetic mean (average) of the given data (array elements) along the specified axis."
      ]
    },
    {
      "cell_type": "code",
      "metadata": {
        "colab": {
          "base_uri": "https://localhost:8080/"
        },
        "id": "bGfPTc9ZcKaP",
        "outputId": "21ee73a2-12fc-4076-d724-6575ac2efa56"
      },
      "source": [
        "print(np.mean(S_X,axis=1))"
      ],
      "execution_count": 75,
      "outputs": [
        {
          "output_type": "stream",
          "text": [
            "[4.5  5.75]\n"
          ],
          "name": "stdout"
        }
      ]
    },
    {
      "cell_type": "code",
      "metadata": {
        "colab": {
          "base_uri": "https://localhost:8080/"
        },
        "id": "pCahC2s0eBpb",
        "outputId": "5f935787-528f-4508-d01f-cf681a26a22d"
      },
      "source": [
        "print(np.mean(S_Y,axis=1))"
      ],
      "execution_count": 76,
      "outputs": [
        {
          "output_type": "stream",
          "text": [
            "[6.75 5.5 ]\n"
          ],
          "name": "stdout"
        }
      ]
    },
    {
      "cell_type": "code",
      "metadata": {
        "id": "wLoVIUPOeIFA"
      },
      "source": [
        ""
      ],
      "execution_count": null,
      "outputs": []
    }
  ]
}